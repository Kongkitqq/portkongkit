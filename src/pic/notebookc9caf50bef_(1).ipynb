{
  "metadata": {
    "kernelspec": {
      "display_name": "Python 3",
      "name": "python3"
    },
    "language_info": {
      "name": "python",
      "version": "3.10.12",
      "mimetype": "text/x-python",
      "codemirror_mode": {
        "name": "ipython",
        "version": 3
      },
      "pygments_lexer": "ipython3",
      "nbconvert_exporter": "python",
      "file_extension": ".py"
    },
    "accelerator": "GPU",
    "colab": {
      "provenance": [],
      "toc_visible": true,
      "gpuType": "T4"
    },
    "kaggle": {
      "accelerator": "nvidiaTeslaT4",
      "dataSources": [],
      "dockerImageVersionId": 30840,
      "isInternetEnabled": true,
      "language": "python",
      "sourceType": "notebook",
      "isGpuEnabled": true
    }
  },
  "nbformat_minor": 0,
  "nbformat": 4,
  "cells": [
    {
      "cell_type": "markdown",
      "source": [
        "# Image classification from scratch\n",
        "\n",
        "**Author:** [fchollet](https://twitter.com/fchollet)<br>\n",
        "**Date created:** 2020/04/27<br>\n",
        "**Last modified:** 2023/11/09<br>\n",
        "**Description:** Training an image classifier from scratch on the Kaggle Cats vs Dogs dataset."
      ],
      "metadata": {
        "id": "wdaLJKT_xJR2"
      }
    },
    {
      "cell_type": "markdown",
      "source": [
        "## Introduction\n",
        "\n",
        "This example shows how to do image classification from scratch, starting from JPEG\n",
        "image files on disk, without leveraging pre-trained weights or a pre-made Keras\n",
        "Application model. We demonstrate the workflow on the Kaggle Cats vs Dogs binary\n",
        "classification dataset.\n",
        "\n",
        "We use the `image_dataset_from_directory` utility to generate the datasets, and\n",
        "we use Keras image preprocessing layers for image standardization and data augmentation."
      ],
      "metadata": {
        "id": "jPtmNm6CxJR4"
      }
    },
    {
      "cell_type": "markdown",
      "source": [
        "## Setup"
      ],
      "metadata": {
        "id": "nLi_Xc-nxJR5"
      }
    },
    {
      "cell_type": "code",
      "source": [
        "import os\n",
        "import numpy as np\n",
        "import keras\n",
        "from keras import layers\n",
        "from tensorflow import data as tf_data\n",
        "import matplotlib.pyplot as plt"
      ],
      "metadata": {
        "id": "O1-wY7mbxJR5",
        "trusted": true,
        "execution": {
          "iopub.status.busy": "2025-01-27T03:03:58.294977Z",
          "iopub.execute_input": "2025-01-27T03:03:58.295309Z",
          "iopub.status.idle": "2025-01-27T03:04:01.270537Z",
          "shell.execute_reply.started": "2025-01-27T03:03:58.295276Z",
          "shell.execute_reply": "2025-01-27T03:04:01.269816Z"
        }
      },
      "outputs": [],
      "execution_count": 1
    },
    {
      "cell_type": "markdown",
      "source": [],
      "metadata": {
        "id": "gBh_zEBiTp4d"
      }
    },
    {
      "cell_type": "markdown",
      "source": [
        "## Load the data: the Cats vs Dogs dataset\n",
        "\n",
        "### Raw data download\n",
        "\n",
        "First, let's download the 786M ZIP archive of the raw data:"
      ],
      "metadata": {
        "id": "_xBuuvaGxJR5"
      }
    },
    {
      "cell_type": "code",
      "source": [
        "!curl -O https://download.microsoft.com/download/3/E/1/3E1C3F21-ECDB-4869-8368-6DEBA77B919F/kagglecatsanddogs_5340.zip"
      ],
      "metadata": {
        "id": "rURDPnXpxJR6",
        "trusted": true,
        "execution": {
          "iopub.status.busy": "2025-01-27T03:04:01.271537Z",
          "iopub.execute_input": "2025-01-27T03:04:01.271957Z",
          "iopub.status.idle": "2025-01-27T03:04:07.510594Z",
          "shell.execute_reply.started": "2025-01-27T03:04:01.271934Z",
          "shell.execute_reply": "2025-01-27T03:04:07.509557Z"
        },
        "colab": {
          "base_uri": "https://localhost:8080/"
        },
        "outputId": "1d32e2a1-4d30-4419-f032-ce75c502425a"
      },
      "outputs": [
        {
          "output_type": "stream",
          "name": "stdout",
          "text": [
            "  % Total    % Received % Xferd  Average Speed   Time    Time     Time  Current\n",
            "                                 Dload  Upload   Total   Spent    Left  Speed\n",
            "100  786M  100  786M    0     0  96.5M      0  0:00:08  0:00:08 --:--:-- 69.1M\n"
          ]
        }
      ],
      "execution_count": 2
    },
    {
      "cell_type": "code",
      "source": [
        "!unzip -q kagglecatsanddogs_5340.zip\n",
        "!ls"
      ],
      "metadata": {
        "id": "ppZ0HLYdxJR6",
        "outputId": "8fe675d0-ea9d-418c-f622-09016bb7320d",
        "colab": {
          "base_uri": "https://localhost:8080/"
        },
        "trusted": true,
        "execution": {
          "iopub.status.busy": "2025-01-27T03:04:07.511801Z",
          "iopub.execute_input": "2025-01-27T03:04:07.512162Z"
        }
      },
      "outputs": [
        {
          "metadata": {
            "tags": null
          },
          "name": "stdout",
          "output_type": "stream",
          "text": [
            "replace PetImages/Cat/0.jpg? [y]es, [n]o, [A]ll, [N]one, [r]ename: "
          ]
        }
      ],
      "execution_count": null
    },
    {
      "cell_type": "markdown",
      "source": [
        "Now we have a `PetImages` folder which contain two subfolders, `Cat` and `Dog`. Each\n",
        "subfolder contains image files for each category."
      ],
      "metadata": {
        "id": "36qT3J8xxJR6"
      }
    },
    {
      "cell_type": "code",
      "source": [
        "!ls PetImages"
      ],
      "metadata": {
        "id": "sw3wA4ZcxJR6",
        "trusted": true
      },
      "outputs": [],
      "execution_count": null
    },
    {
      "cell_type": "markdown",
      "source": [
        "### Filter out corrupted images\n",
        "\n",
        "When working with lots of real-world image data, corrupted images are a common\n",
        "occurence. Let's filter out badly-encoded images that do not feature the string \"JFIF\"\n",
        "in their header."
      ],
      "metadata": {
        "id": "piUziR_LxJR6"
      }
    },
    {
      "cell_type": "code",
      "source": [
        "num_skipped = 0\n",
        "for folder_name in (\"Cat\", \"Dog\"):\n",
        "    folder_path = os.path.join(\"PetImages\", folder_name)\n",
        "    for fname in os.listdir(folder_path):\n",
        "        fpath = os.path.join(folder_path, fname)\n",
        "        try:\n",
        "            fobj = open(fpath, \"rb\")\n",
        "            is_jfif = b\"JFIF\" in fobj.peek(10)\n",
        "        finally:\n",
        "            fobj.close()\n",
        "\n",
        "        if not is_jfif:\n",
        "            num_skipped += 1\n",
        "            # Delete corrupted image\n",
        "            os.remove(fpath)\n",
        "\n",
        "print(f\"Deleted {num_skipped} images.\")"
      ],
      "metadata": {
        "id": "2cHY3PRMxJR6",
        "trusted": true
      },
      "outputs": [],
      "execution_count": null
    },
    {
      "cell_type": "markdown",
      "source": [
        "## Generate a `Dataset`"
      ],
      "metadata": {
        "id": "hfHFu3p7xJR7"
      }
    },
    {
      "cell_type": "code",
      "source": [
        "image_size = (180, 180)\n",
        "batch_size = 128\n",
        "\n",
        "train_ds, val_ds = keras.utils.image_dataset_from_directory(\n",
        "    \"PetImages\",\n",
        "    validation_split=0.2,\n",
        "    subset=\"both\",\n",
        "    seed=1337,\n",
        "    image_size=image_size,\n",
        "    batch_size=batch_size,\n",
        ")"
      ],
      "metadata": {
        "id": "6I-jtNM0xJR7",
        "trusted": true
      },
      "outputs": [],
      "execution_count": null
    },
    {
      "cell_type": "markdown",
      "source": [
        "## Visualize the data\n",
        "\n",
        "Here are the first 9 images in the training dataset."
      ],
      "metadata": {
        "id": "7CJTpPhNxJR7"
      }
    },
    {
      "cell_type": "code",
      "source": [
        "\n",
        "plt.figure(figsize=(10, 10))\n",
        "for images, labels in train_ds.take(1):\n",
        "    for i in range(9):\n",
        "        ax = plt.subplot(3, 3, i + 1)\n",
        "        plt.imshow(np.array(images[i]).astype(\"uint8\"))\n",
        "        plt.title(int(labels[i]))\n",
        "        plt.axis(\"off\")"
      ],
      "metadata": {
        "id": "uTlABMtdxJR7",
        "trusted": true
      },
      "outputs": [],
      "execution_count": null
    },
    {
      "cell_type": "markdown",
      "source": [
        "## Using image data augmentation\n",
        "\n",
        "When you don't have a large image dataset, it's a good practice to artificially\n",
        "introduce sample diversity by applying random yet realistic transformations to the\n",
        "training images, such as random horizontal flipping or small random rotations. This\n",
        "helps expose the model to different aspects of the training data while slowing down\n",
        "overfitting."
      ],
      "metadata": {
        "id": "pqfqwHM9xJR7"
      }
    },
    {
      "cell_type": "code",
      "source": [
        "data_augmentation_layers = [\n",
        "    layers.RandomFlip(\"horizontal\"),\n",
        "    layers.RandomRotation(0.1),\n",
        "]\n",
        "\n",
        "\n",
        "def data_augmentation(images):\n",
        "    for layer in data_augmentation_layers:\n",
        "        images = layer(images)\n",
        "    return images\n"
      ],
      "metadata": {
        "id": "Ryq_7kxUxJR7",
        "trusted": true
      },
      "outputs": [],
      "execution_count": null
    },
    {
      "cell_type": "markdown",
      "source": [
        "Let's visualize what the augmented samples look like, by applying `data_augmentation`\n",
        "repeatedly to the first few images in the dataset:"
      ],
      "metadata": {
        "id": "Ikdrjwf0xJR7"
      }
    },
    {
      "cell_type": "code",
      "source": [
        "plt.figure(figsize=(10, 10))\n",
        "for images, _ in train_ds.take(1):\n",
        "    for i in range(9):\n",
        "        augmented_images = data_augmentation(images)\n",
        "        ax = plt.subplot(3, 3, i + 1)\n",
        "        plt.imshow(np.array(augmented_images[0]).astype(\"uint8\"))\n",
        "        plt.axis(\"off\")\n"
      ],
      "metadata": {
        "id": "NBc-YqrcxJR7",
        "trusted": true
      },
      "outputs": [],
      "execution_count": null
    },
    {
      "cell_type": "markdown",
      "source": [
        "## Standardizing the data\n",
        "\n",
        "Our image are already in a standard size (180x180), as they are being yielded as\n",
        "contiguous `float32` batches by our dataset. However, their RGB channel values are in\n",
        "the `[0, 255]` range. This is not ideal for a neural network;\n",
        "in general you should seek to make your input values small. Here, we will\n",
        "standardize values to be in the `[0, 1]` by using a `Rescaling` layer at the start of\n",
        "our model."
      ],
      "metadata": {
        "id": "JJjDrhboxJR7"
      }
    },
    {
      "cell_type": "markdown",
      "source": [
        "## Two options to preprocess the data\n",
        "\n",
        "There are two ways you could be using the `data_augmentation` preprocessor:\n",
        "\n",
        "**Option 1: Make it part of the model**, like this:\n",
        "\n",
        "```python\n",
        "inputs = keras.Input(shape=input_shape)\n",
        "x = data_augmentation(inputs)\n",
        "x = layers.Rescaling(1./255)(x)\n",
        "...  # Rest of the model\n",
        "```\n",
        "\n",
        "With this option, your data augmentation will happen *on device*, synchronously\n",
        "with the rest of the model execution, meaning that it will benefit from GPU\n",
        "acceleration.\n",
        "\n",
        "Note that data augmentation is inactive at test time, so the input samples will only be\n",
        "augmented during `fit()`, not when calling `evaluate()` or `predict()`.\n",
        "\n",
        "If you're training on GPU, this may be a good option.\n",
        "\n",
        "**Option 2: apply it to the dataset**, so as to obtain a dataset that yields batches of\n",
        "augmented images, like this:\n",
        "\n",
        "```python\n",
        "augmented_train_ds = train_ds.map(\n",
        "    lambda x, y: (data_augmentation(x, training=True), y))\n",
        "```\n",
        "\n",
        "With this option, your data augmentation will happen **on CPU**, asynchronously, and will\n",
        "be buffered before going into the model.\n",
        "\n",
        "If you're training on CPU, this is the better option, since it makes data augmentation\n",
        "asynchronous and non-blocking.\n",
        "\n",
        "In our case, we'll go with the second option. If you're not sure\n",
        "which one to pick, this second option (asynchronous preprocessing) is always a solid choice."
      ],
      "metadata": {
        "id": "EXO791Q2xJR7"
      }
    },
    {
      "cell_type": "markdown",
      "source": [
        "## Configure the dataset for performance\n",
        "\n",
        "Let's apply data augmentation to our training dataset,\n",
        "and let's make sure to use buffered prefetching so we can yield data from disk without\n",
        "having I/O becoming blocking:"
      ],
      "metadata": {
        "id": "e1q-msjMxJR7"
      }
    },
    {
      "cell_type": "code",
      "source": [
        "# Apply `data_augmentation` to the training images.\n",
        "train_ds = train_ds.map(\n",
        "    lambda img, label: (data_augmentation(img), label),\n",
        "    num_parallel_calls=tf_data.AUTOTUNE,\n",
        ")\n",
        "# Prefetching samples in GPU memory helps maximize GPU utilization.\n",
        "train_ds = train_ds.prefetch(tf_data.AUTOTUNE)\n",
        "val_ds = val_ds.prefetch(tf_data.AUTOTUNE)"
      ],
      "metadata": {
        "id": "JOK4RHQaxJR7",
        "trusted": true
      },
      "outputs": [],
      "execution_count": null
    },
    {
      "cell_type": "markdown",
      "source": [
        "## Build a model\n",
        "\n",
        "We'll build a small version of the Xception network. We haven't particularly tried to\n",
        "optimize the architecture; if you want to do a systematic search for the best model\n",
        "configuration, consider using\n",
        "[KerasTuner](https://github.com/keras-team/keras-tuner).\n",
        "\n",
        "Note that:\n",
        "\n",
        "- We start the model with the `data_augmentation` preprocessor, followed by a\n",
        " `Rescaling` layer.\n",
        "- We include a `Dropout` layer before the final classification layer."
      ],
      "metadata": {
        "id": "ejXxgeZyxJR7"
      }
    },
    {
      "cell_type": "code",
      "source": [
        "\n",
        "def make_model(input_shape, num_classes):\n",
        "    inputs = keras.Input(shape=input_shape)\n",
        "\n",
        "    # Entry block\n",
        "    x = layers.Rescaling(1.0 / 255)(inputs)\n",
        "    x = layers.Conv2D(128, 3, strides=2, padding=\"same\")(x)\n",
        "    x = layers.BatchNormalization()(x)\n",
        "    x = layers.Activation(\"relu\")(x)\n",
        "\n",
        "    previous_block_activation = x  # Set aside residual\n",
        "\n",
        "    for size in [256, 512, 728]:\n",
        "        x = layers.Activation(\"relu\")(x)\n",
        "        x = layers.SeparableConv2D(size, 3, padding=\"same\")(x)\n",
        "        x = layers.BatchNormalization()(x)\n",
        "\n",
        "        x = layers.Activation(\"relu\")(x)\n",
        "        x = layers.SeparableConv2D(size, 3, padding=\"same\")(x)\n",
        "        x = layers.BatchNormalization()(x)\n",
        "\n",
        "        x = layers.MaxPooling2D(3, strides=2, padding=\"same\")(x)\n",
        "\n",
        "        # Project residual\n",
        "        residual = layers.Conv2D(size, 1, strides=2, padding=\"same\")(\n",
        "            previous_block_activation\n",
        "        )\n",
        "        x = layers.add([x, residual])  # Add back residual\n",
        "        previous_block_activation = x  # Set aside next residual\n",
        "\n",
        "    x = layers.SeparableConv2D(1024, 3, padding=\"same\")(x)\n",
        "    x = layers.BatchNormalization()(x)\n",
        "    x = layers.Activation(\"relu\")(x)\n",
        "\n",
        "    x = layers.GlobalAveragePooling2D()(x)\n",
        "    if num_classes == 2:\n",
        "        units = 1\n",
        "    else:\n",
        "        units = num_classes\n",
        "\n",
        "    x = layers.Dropout(0.25)(x)\n",
        "    # We specify activation=None so as to return logits\n",
        "    outputs = layers.Dense(units, activation=None)(x)\n",
        "    return keras.Model(inputs, outputs)\n",
        "\n",
        "\n",
        "model = make_model(input_shape=image_size + (3,), num_classes=2)\n",
        "keras.utils.plot_model(model, show_shapes=True)"
      ],
      "metadata": {
        "id": "bU02GuDxxJR8",
        "trusted": true
      },
      "outputs": [],
      "execution_count": null
    },
    {
      "cell_type": "code",
      "source": [
        "pip install livelossplot\n"
      ],
      "metadata": {
        "trusted": true,
        "id": "SpICinkL2vUk"
      },
      "outputs": [],
      "execution_count": null
    },
    {
      "cell_type": "markdown",
      "source": [
        "## Train the model"
      ],
      "metadata": {
        "id": "8C45jgWmxJR8"
      }
    },
    {
      "cell_type": "code",
      "source": [
        "from livelossplot import PlotLossesKeras\n",
        "from tensorflow import keras\n",
        "\n",
        "# กำหนด epochs และ callbacks\n",
        "epochs = 25\n",
        "\n",
        "callbacks = [\n",
        "    keras.callbacks.ModelCheckpoint(\"save_at_{epoch}.keras\"),\n",
        "    PlotLossesKeras()  # เพิ่ม callback สำหรับ livelossplot\n",
        "]\n",
        "\n",
        "# Compile โมเดล\n",
        "model.compile(\n",
        "    optimizer=keras.optimizers.Adam(3e-4),\n",
        "    loss=keras.losses.BinaryCrossentropy(from_logits=True),\n",
        "    metrics=[keras.metrics.BinaryAccuracy(name=\"acc\")],\n",
        ")\n",
        "\n",
        "# เริ่มฝึกโมเดล\n",
        "model.fit(\n",
        "    train_ds,\n",
        "    epochs=epochs,\n",
        "    callbacks=callbacks,\n",
        "    validation_data=val_ds,\n",
        ")\n"
      ],
      "metadata": {
        "id": "qpgOChafxJR8",
        "trusted": true
      },
      "outputs": [],
      "execution_count": null
    },
    {
      "cell_type": "code",
      "source": [],
      "metadata": {
        "trusted": true,
        "id": "uZh_04c92vUk"
      },
      "outputs": [],
      "execution_count": null
    },
    {
      "cell_type": "markdown",
      "source": [
        "We get to >90% validation accuracy after training for 25 epochs on the full dataset\n",
        "(in practice, you can train for 50+ epochs before validation performance starts degrading)."
      ],
      "metadata": {
        "id": "4tHXcn0ixJR8"
      }
    },
    {
      "cell_type": "markdown",
      "source": [
        "## Run inference on new data\n",
        "\n",
        "Note that data augmentation and dropout are inactive at inference time."
      ],
      "metadata": {
        "id": "Vlv6HEuExJR8"
      }
    },
    {
      "cell_type": "code",
      "source": [
        "img = keras.utils.load_img(\"PetImages/Cat/6779.jpg\", target_size=image_size)\n",
        "plt.imshow(img)\n",
        "\n",
        "img_array = keras.utils.img_to_array(img)\n",
        "img_array = keras.ops.expand_dims(img_array, 0)  # Create batch axis\n",
        "\n",
        "predictions = model.predict(img_array)\n",
        "score = float(keras.ops.sigmoid(predictions[0][0]))\n",
        "print(f\"This image is {100 * (1 - score):.2f}% cat and {100 * score:.2f}% dog.\")"
      ],
      "metadata": {
        "id": "4DifJhapxJR8",
        "trusted": true
      },
      "outputs": [],
      "execution_count": null
    },
    {
      "cell_type": "markdown",
      "source": [
        "สร้างmodelmake_modelX2"
      ],
      "metadata": {
        "id": "sKTcKkmh2vUk"
      }
    },
    {
      "cell_type": "code",
      "source": [
        "def make_modelX2(input_shape, num_classes):\n",
        "    # ฟังก์ชันสำหรับสร้างโมเดล CNN\n",
        "    inputs = keras.Input(shape=input_shape)  # สร้าง input layer ที่รับข้อมูลภาพตาม input_shape\n",
        "\n",
        "    # Entry block\n",
        "    x = layers.Rescaling(1.0 / 255)(inputs)  # Normalize ค่า pixel ให้อยู่ในช่วง [0, 1]\n",
        "    x = layers.Conv2D(128, 3, strides=2, padding=\"same\")(x)  # Convolutional layer (128 filters, ขนาด kernel = 3x3)\n",
        "    x = layers.BatchNormalization()(x)  # Normalization เพื่อปรับปรุงการเรียนรู้ของโมเดล\n",
        "    x = layers.Activation(\"relu\")(x)  # ใช้ฟังก์ชัน Activation แบบ ReLU\n",
        "    x = layers.Dropout(0.3)(x)  # Dropout เพื่อป้องกัน Overfitting (อัตราการสุ่ม = 30%)\n",
        "\n",
        "    previous_block_activation = x  # เก็บค่าจาก block นี้ไว้ใช้สำหรับ residual connection\n",
        "\n",
        "    for size in [256, 512, 728]:  # Loop สร้าง block CNN ขนาดต่าง ๆ\n",
        "        x = layers.Activation(\"relu\")(x)  # ใช้ ReLU กับ output ก่อนเข้า convolution\n",
        "        x = layers.SeparableConv2D(size, 3, padding=\"same\")(x)  # ใช้ separable convolution เพื่อลดจำนวนพารามิเตอร์\n",
        "        x = layers.BatchNormalization()(x)  # Normalization เพื่อให้ค่า output มีเสถียรภาพ\n",
        "\n",
        "        x = layers.Activation(\"relu\")(x)  # ใช้ ReLU อีกครั้ง\n",
        "        x = layers.SeparableConv2D(size, 3, padding=\"same\")(x)  # Separable convolution รอบที่ 2\n",
        "        x = layers.BatchNormalization()(x)  # Normalization อีกครั้ง\n",
        "\n",
        "        x = layers.MaxPooling2D(3, strides=2, padding=\"same\")(x)  # Max Pooling เพื่อลดขนาด spatial dimensions\n",
        "\n",
        "        # Project residual\n",
        "        residual = layers.Conv2D(size, 1, strides=2, padding=\"same\")(previous_block_activation)\n",
        "        # Convolution 1x1 เพื่อลดหรือเพิ่ม channel ให้ตรงกับขนาดของ x\n",
        "        x = layers.add([x, residual])  # บวก residual connection เข้ากับ output ของ block ปัจจุบัน\n",
        "        previous_block_activation = x  # อัพเดตค่า previous_block_activation สำหรับ block ถัดไป\n",
        "\n",
        "    x = layers.SeparableConv2D(1024, 3, padding=\"same\")(x)  # Convolution สุดท้าย (ขนาด 1024 filters)\n",
        "    x = layers.BatchNormalization()(x)  # Normalization หลัง convolution\n",
        "    x = layers.Activation(\"relu\")(x)  # ใช้ ReLU เป็น activation function\n",
        "\n",
        "    x = layers.GlobalAveragePooling2D()(x)  # Global Average Pooling เพื่อลด dimension เหลือเพียง 1x1\n",
        "\n",
        "    if num_classes == 2:  # กรณี binary classification\n",
        "        units = 1  # output = 1 node\n",
        "    else:  # กรณี multi-class classification\n",
        "        units = num_classes  # output = จำนวน class\n",
        "\n",
        "    x = layers.Dropout(0.25)(x)  # Dropout ก่อนชั้นสุดท้าย (อัตรา 25%)\n",
        "    outputs = layers.Dense(units, activation=None)(x)  # Fully connected layer สุดท้าย (activation=None สำหรับ logits)\n",
        "\n",
        "    return keras.Model(inputs, outputs)  # Return โมเดลสำเร็จรูป\n"
      ],
      "metadata": {
        "trusted": true,
        "id": "gnKB2GtK2vUm"
      },
      "outputs": [],
      "execution_count": null
    },
    {
      "cell_type": "code",
      "source": [
        "from livelossplot import PlotLossesKeras\n",
        "from tensorflow import keras\n",
        "\n",
        "# กำหนด epochs และ callbacks\n",
        "epochs = 15  # ตั้งค่าสูงขึ้น แต่ EarlyStopping จะหยุดเองเมื่อโมเดลไม่พัฒนา\n",
        "callbacks = [\n",
        "    keras.callbacks.ModelCheckpoint(\"save_at_{epoch}.keras\", save_best_only=True, monitor=\"val_loss\"),  # บันทึกเฉพาะโมเดลที่ดีที่สุด\n",
        "    keras.callbacks.EarlyStopping(monitor=\"val_loss\", patience=5, restore_best_weights=True),  # หยุดเมื่อ val_loss ไม่ลดลงใน 5 รอบ\n",
        "    keras.callbacks.ReduceLROnPlateau(monitor=\"val_loss\", factor=0.5, patience=3, min_lr=1e-6),  # ลด learning rate เมื่อ val_loss ไม่พัฒนา\n",
        "    PlotLossesKeras()  # แสดงกราฟ loss/accuracy ระหว่างเทรน\n",
        "]\n",
        "\n",
        "# Compile โมเดล\n",
        "model.compile(\n",
        "    optimizer=keras.optimizers.Adam(3e-4),  # ใช้ Adam optimizer (learning rate เริ่มต้น 3e-4)\n",
        "    loss=keras.losses.BinaryCrossentropy(from_logits=True),  # Loss สำหรับ binary classification\n",
        "    metrics=[keras.metrics.BinaryAccuracy(name=\"acc\")],  # วัดผลด้วย accuracy\n",
        ")\n",
        "\n",
        "# เริ่มฝึกโมเดล\n",
        "history = model.fit(\n",
        "    train_ds,  # ข้อมูลเทรน\n",
        "    epochs=epochs,  # จำนวนรอบการเทรนสูงสุด\n",
        "    callbacks=callbacks,  # ใช้ callbacks ที่กำหนด\n",
        "    validation_data=val_ds,  # ข้อมูล validation\n",
        "    verbose=1  # แสดงผลระหว่างการฝึก\n",
        ")\n",
        "\n",
        "# บันทึกโมเดลที่ดีที่สุด\n",
        "model.save(\"my_model_best\")  # บันทึกโมเดลในรูปแบบ TensorFlow SavedModel\n",
        "print(\"Model training complete. Best model saved successfully.\")\n"
      ],
      "metadata": {
        "trusted": true,
        "id": "BnEC3e1G2vUn"
      },
      "outputs": [],
      "execution_count": null
    },
    {
      "cell_type": "code",
      "source": [
        "from sklearn.metrics import classification_report, accuracy_score\n",
        "import numpy as np\n"
      ],
      "metadata": {
        "trusted": true,
        "id": "tgkVK1AH2vUn"
      },
      "outputs": [],
      "execution_count": null
    },
    {
      "cell_type": "code",
      "source": [
        "y_true = []  # เก็บ labels ที่แท้จริง\n",
        "y_pred = []  # เก็บค่าทำนายจากโมเดล\n",
        "\n",
        "# ทำการวนลูปเพื่อทำนายค่าใน test_ds\n",
        "for images, labels in test_ds:  # test_ds เป็นชุดข้อมูล test\n",
        "    predictions = model.predict(images)  # ทำนายค่าจากโมเดล\n",
        "    y_true.extend(labels.numpy())  # แปลง labels เป็น numpy และเก็บใน y_true\n",
        "    y_pred.extend(np.round(np.squeeze(predictions)))  # แปลงผลทำนาย logits -> binary (0/1)\n"
      ],
      "metadata": {
        "trusted": true,
        "id": "f4DLozYd2vUn"
      },
      "outputs": [],
      "execution_count": null
    },
    {
      "cell_type": "code",
      "source": [
        "# คำนวณ accuracy\n",
        "accuracy = accuracy_score(y_true, y_pred)\n",
        "print(\"Accuracy:\", accuracy)\n",
        "\n",
        "# แสดง classification report\n",
        "print(\"\\nClassification Report:\")\n",
        "print(classification_report(y_true, y_pred, target_names=[\"Cat\", \"Dog\"]))\n"
      ],
      "metadata": {
        "trusted": true,
        "id": "0j3pHDxx2vUn"
      },
      "outputs": [],
      "execution_count": null
    },
    {
      "cell_type": "code",
      "source": [
        "import numpy as np\n",
        "import matplotlib.pyplot as plt\n",
        "import random\n"
      ],
      "metadata": {
        "trusted": true,
        "id": "zYr-sFKV2vUo"
      },
      "outputs": [],
      "execution_count": null
    },
    {
      "cell_type": "code",
      "source": [
        "def plot_predictions(images, true_labels, predicted_labels, class_names):\n",
        "    plt.figure(figsize=(15, 10))\n",
        "    for i in range(len(images)):\n",
        "        plt.subplot(2, 5, i + 1)\n",
        "        plt.imshow(images[i].astype(\"uint8\"))  # แสดงภาพ\n",
        "        plt.title(\n",
        "            f\"True: {class_names[true_labels[i]]}\\nPred: {class_names[int(predicted_labels[i])]}\"\n",
        "        )\n",
        "        plt.axis(\"off\")\n",
        "    plt.tight_layout()\n",
        "    plt.show()\n"
      ],
      "metadata": {
        "trusted": true,
        "id": "zjfqTDD32vUo"
      },
      "outputs": [],
      "execution_count": null
    },
    {
      "cell_type": "code",
      "source": [
        "# สุ่ม 10 batch จาก test_ds\n",
        "random_indices = random.sample(range(len(test_ds)), 10)\n",
        "sample_images = []\n",
        "sample_true_labels = []\n",
        "sample_predicted_labels = []\n",
        "\n",
        "# ดึงข้อมูลภาพจากชุด test\n",
        "for i, (images, labels) in enumerate(test_ds):\n",
        "    if i in random_indices:\n",
        "        sample_images.extend(images.numpy())  # ดึงภาพ\n",
        "        sample_true_labels.extend(labels.numpy())  # ดึง labels\n",
        "        predictions = model.predict(images)  # ทำนาย\n",
        "        sample_predicted_labels.extend(np.round(np.squeeze(predictions)))  # logits -> binary (0/1)\n",
        "    if len(sample_images) >= 10:\n",
        "        break\n",
        "\n",
        "# จำกัดแค่ 10 รูป\n",
        "sample_images = sample_images[:10]\n",
        "sample_true_labels = sample_true_labels[:10]\n",
        "sample_predicted_labels = sample_predicted_labels[:10]\n"
      ],
      "metadata": {
        "trusted": true,
        "id": "6fcvjqkw2vUp"
      },
      "outputs": [],
      "execution_count": null
    },
    {
      "cell_type": "code",
      "source": [
        "# ระบุชื่อคลาส (Cat/Dog)\n",
        "class_names = [\"Cat\", \"Dog\"]\n",
        "\n",
        "# แสดงผลการทำนาย\n",
        "plot_predictions(sample_images, sample_true_labels, sample_predicted_labels, class_names)\n"
      ],
      "metadata": {
        "trusted": true,
        "id": "RhSm4aM62vUp"
      },
      "outputs": [],
      "execution_count": null
    }
  ]
}